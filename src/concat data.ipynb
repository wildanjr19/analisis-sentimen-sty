{
 "cells": [
  {
   "cell_type": "code",
   "execution_count": 1,
   "metadata": {},
   "outputs": [],
   "source": [
    "import pandas as pd"
   ]
  },
  {
   "cell_type": "code",
   "execution_count": 13,
   "metadata": {},
   "outputs": [
    {
     "name": "stdout",
     "output_type": "stream",
     "text": [
      "(2860, 15)\n",
      "(264, 15)\n",
      "(253, 15)\n"
     ]
    }
   ],
   "source": [
    "df1 = pd.read_csv(r\"F:\\Willy's Project\\Natural Language Processing (NLP)\\part2_index_false.csv\")\n",
    "df2 = pd.read_csv(r\"F:\\Willy's Project\\Natural Language Processing (NLP)\\day4_5.csv\")\n",
    "df3 = pd.read_csv(r\"F:\\Willy's Project\\Natural Language Processing (NLP)\\day4_6.csv\")\n",
    "\n",
    "\n",
    "print(df1.shape)\n",
    "print(df2.shape)\n",
    "print(df3.shape)"
   ]
  },
  {
   "cell_type": "code",
   "execution_count": 14,
   "metadata": {},
   "outputs": [
    {
     "name": "stdout",
     "output_type": "stream",
     "text": [
      "(3377, 15)\n"
     ]
    }
   ],
   "source": [
    "part3 = pd.concat([df1, df2, df3])\n",
    "print(part3.shape)"
   ]
  },
  {
   "cell_type": "code",
   "execution_count": 15,
   "metadata": {},
   "outputs": [
    {
     "data": {
      "text/html": [
       "<div>\n",
       "<style scoped>\n",
       "    .dataframe tbody tr th:only-of-type {\n",
       "        vertical-align: middle;\n",
       "    }\n",
       "\n",
       "    .dataframe tbody tr th {\n",
       "        vertical-align: top;\n",
       "    }\n",
       "\n",
       "    .dataframe thead th {\n",
       "        text-align: right;\n",
       "    }\n",
       "</style>\n",
       "<table border=\"1\" class=\"dataframe\">\n",
       "  <thead>\n",
       "    <tr style=\"text-align: right;\">\n",
       "      <th></th>\n",
       "      <th>conversation_id_str</th>\n",
       "      <th>created_at</th>\n",
       "      <th>favorite_count</th>\n",
       "      <th>full_text</th>\n",
       "      <th>id_str</th>\n",
       "      <th>image_url</th>\n",
       "      <th>in_reply_to_screen_name</th>\n",
       "      <th>lang</th>\n",
       "      <th>location</th>\n",
       "      <th>quote_count</th>\n",
       "      <th>reply_count</th>\n",
       "      <th>retweet_count</th>\n",
       "      <th>tweet_url</th>\n",
       "      <th>user_id_str</th>\n",
       "      <th>username</th>\n",
       "    </tr>\n",
       "  </thead>\n",
       "  <tbody>\n",
       "    <tr>\n",
       "      <th>0</th>\n",
       "      <td>1614088874170650628</td>\n",
       "      <td>Sat Jan 14 02:35:50 +0000 2023</td>\n",
       "      <td>6041</td>\n",
       "      <td>STY Out. Saya setuju usulan ini. Saya rinci al...</td>\n",
       "      <td>1614088874170650628</td>\n",
       "      <td>https://pbs.twimg.com/media/FmZlRbYaYAYQo0w.jpg</td>\n",
       "      <td>NaN</td>\n",
       "      <td>in</td>\n",
       "      <td>Bandung, Indonesia</td>\n",
       "      <td>219</td>\n",
       "      <td>473</td>\n",
       "      <td>1928</td>\n",
       "      <td>https://x.com/ardynshufi/status/16140888741706...</td>\n",
       "      <td>118074490</td>\n",
       "      <td>ardynshufi</td>\n",
       "    </tr>\n",
       "    <tr>\n",
       "      <th>1</th>\n",
       "      <td>1876169001052840083</td>\n",
       "      <td>Mon Jan 06 07:28:42 +0000 2025</td>\n",
       "      <td>23483</td>\n",
       "      <td>Dipecat pssi sty join psht https://t.co/mv5EvD...</td>\n",
       "      <td>1876169001052840083</td>\n",
       "      <td>https://pbs.twimg.com/media/Ggl9wpta8AAxlbY.jpg</td>\n",
       "      <td>NaN</td>\n",
       "      <td>in</td>\n",
       "      <td>NaN</td>\n",
       "      <td>470</td>\n",
       "      <td>647</td>\n",
       "      <td>4936</td>\n",
       "      <td>https://x.com/qrivasi/status/1876169001052840083</td>\n",
       "      <td>752746497968484353</td>\n",
       "      <td>qrivasi</td>\n",
       "    </tr>\n",
       "    <tr>\n",
       "      <th>2</th>\n",
       "      <td>1876408224037167386</td>\n",
       "      <td>Mon Jan 06 23:19:17 +0000 2025</td>\n",
       "      <td>6190</td>\n",
       "      <td>dari kasus STY kita belajar mau serajin apapun...</td>\n",
       "      <td>1876408224037167386</td>\n",
       "      <td>NaN</td>\n",
       "      <td>NaN</td>\n",
       "      <td>in</td>\n",
       "      <td>Ciledug, Indonesia</td>\n",
       "      <td>219</td>\n",
       "      <td>204</td>\n",
       "      <td>2705</td>\n",
       "      <td>https://x.com/efenerr/status/1876408224037167386</td>\n",
       "      <td>89326335</td>\n",
       "      <td>efenerr</td>\n",
       "    </tr>\n",
       "    <tr>\n",
       "      <th>3</th>\n",
       "      <td>1876182620331241645</td>\n",
       "      <td>Mon Jan 06 08:22:49 +0000 2025</td>\n",
       "      <td>19136</td>\n",
       "      <td>STY tidak dipecat. Blio hanya dirotasi menjadi...</td>\n",
       "      <td>1876182620331241645</td>\n",
       "      <td>NaN</td>\n",
       "      <td>NaN</td>\n",
       "      <td>in</td>\n",
       "      <td>Sleman, Indonesia</td>\n",
       "      <td>433</td>\n",
       "      <td>321</td>\n",
       "      <td>4961</td>\n",
       "      <td>https://x.com/bmtqn/status/1876182620331241645</td>\n",
       "      <td>580503780</td>\n",
       "      <td>bmtqn</td>\n",
       "    </tr>\n",
       "    <tr>\n",
       "      <th>4</th>\n",
       "      <td>1876148684230169066</td>\n",
       "      <td>Mon Jan 06 06:07:58 +0000 2025</td>\n",
       "      <td>41423</td>\n",
       "      <td>Liat noh sty di tempat kerjanya udah dianggep ...</td>\n",
       "      <td>1876148684230169066</td>\n",
       "      <td>NaN</td>\n",
       "      <td>NaN</td>\n",
       "      <td>in</td>\n",
       "      <td>NaN</td>\n",
       "      <td>897</td>\n",
       "      <td>350</td>\n",
       "      <td>14175</td>\n",
       "      <td>https://x.com/andihiyat/status/187614868423016...</td>\n",
       "      <td>886934161</td>\n",
       "      <td>andihiyat</td>\n",
       "    </tr>\n",
       "  </tbody>\n",
       "</table>\n",
       "</div>"
      ],
      "text/plain": [
       "   conversation_id_str                      created_at  favorite_count  \\\n",
       "0  1614088874170650628  Sat Jan 14 02:35:50 +0000 2023            6041   \n",
       "1  1876169001052840083  Mon Jan 06 07:28:42 +0000 2025           23483   \n",
       "2  1876408224037167386  Mon Jan 06 23:19:17 +0000 2025            6190   \n",
       "3  1876182620331241645  Mon Jan 06 08:22:49 +0000 2025           19136   \n",
       "4  1876148684230169066  Mon Jan 06 06:07:58 +0000 2025           41423   \n",
       "\n",
       "                                           full_text               id_str  \\\n",
       "0  STY Out. Saya setuju usulan ini. Saya rinci al...  1614088874170650628   \n",
       "1  Dipecat pssi sty join psht https://t.co/mv5EvD...  1876169001052840083   \n",
       "2  dari kasus STY kita belajar mau serajin apapun...  1876408224037167386   \n",
       "3  STY tidak dipecat. Blio hanya dirotasi menjadi...  1876182620331241645   \n",
       "4  Liat noh sty di tempat kerjanya udah dianggep ...  1876148684230169066   \n",
       "\n",
       "                                         image_url in_reply_to_screen_name  \\\n",
       "0  https://pbs.twimg.com/media/FmZlRbYaYAYQo0w.jpg                     NaN   \n",
       "1  https://pbs.twimg.com/media/Ggl9wpta8AAxlbY.jpg                     NaN   \n",
       "2                                              NaN                     NaN   \n",
       "3                                              NaN                     NaN   \n",
       "4                                              NaN                     NaN   \n",
       "\n",
       "  lang            location  quote_count  reply_count  retweet_count  \\\n",
       "0   in  Bandung, Indonesia          219          473           1928   \n",
       "1   in                 NaN          470          647           4936   \n",
       "2   in  Ciledug, Indonesia          219          204           2705   \n",
       "3   in   Sleman, Indonesia          433          321           4961   \n",
       "4   in                 NaN          897          350          14175   \n",
       "\n",
       "                                           tweet_url         user_id_str  \\\n",
       "0  https://x.com/ardynshufi/status/16140888741706...           118074490   \n",
       "1   https://x.com/qrivasi/status/1876169001052840083  752746497968484353   \n",
       "2   https://x.com/efenerr/status/1876408224037167386            89326335   \n",
       "3     https://x.com/bmtqn/status/1876182620331241645           580503780   \n",
       "4  https://x.com/andihiyat/status/187614868423016...           886934161   \n",
       "\n",
       "     username  \n",
       "0  ardynshufi  \n",
       "1     qrivasi  \n",
       "2     efenerr  \n",
       "3       bmtqn  \n",
       "4   andihiyat  "
      ]
     },
     "execution_count": 15,
     "metadata": {},
     "output_type": "execute_result"
    }
   ],
   "source": [
    "part3.head()"
   ]
  },
  {
   "cell_type": "code",
   "execution_count": 17,
   "metadata": {},
   "outputs": [],
   "source": [
    "part3.to_csv('part3_index.csv', index=False)"
   ]
  }
 ],
 "metadata": {
  "kernelspec": {
   "display_name": "Python 3",
   "language": "python",
   "name": "python3"
  },
  "language_info": {
   "codemirror_mode": {
    "name": "ipython",
    "version": 3
   },
   "file_extension": ".py",
   "mimetype": "text/x-python",
   "name": "python",
   "nbconvert_exporter": "python",
   "pygments_lexer": "ipython3",
   "version": "3.11.0"
  }
 },
 "nbformat": 4,
 "nbformat_minor": 2
}
